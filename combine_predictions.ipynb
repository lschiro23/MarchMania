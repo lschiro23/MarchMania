{
 "cells": [
  {
   "cell_type": "code",
   "execution_count": null,
   "metadata": {},
   "outputs": [],
   "source": [
    "import pandas as pd\n",
    "\n",
    "# Read the women's and men's prediction CSV files\n",
    "womens_df = pd.read_csv('2023_potential_matchups_with_predictions_womens.csv')\n",
    "mens_df = pd.read_csv('2023_potential_matchups_with_predictions_mens.csv')\n",
    "\n",
    "# Combine the two dataframes\n",
    "combined_df = pd.concat([womens_df, mens_df])\n",
    "\n",
    "# Save the combined dataframe to a single CSV file\n",
    "combined_df.to_csv('2023_potential_matchups_with_predictions.csv', index=False)"
   ]
  }
 ],
 "metadata": {
  "kernelspec": {
   "display_name": "myenv",
   "language": "python",
   "name": "python3"
  },
  "language_info": {
   "name": "python",
   "version": "3.12.2"
  }
 },
 "nbformat": 4,
 "nbformat_minor": 2
}
