{
 "cells": [
  {
   "cell_type": "code",
   "execution_count": 11,
   "metadata": {},
   "outputs": [],
   "source": [
    "import pandas as pd\n",
    "\n",
    "# Read the women's and men's prediction CSV files\n",
    "womens_df = pd.read_csv('2024_potential_matchups_with_predictions_womens.csv')\n",
    "mens_df = pd.read_csv('2024_potential_matchups_with_predictions_mens.csv')\n",
    "\n",
    "# Get the number of rows in each DataFrame\n",
    "womens_rows = len(womens_df)\n",
    "mens_rows = len(mens_df)\n",
    "\n",
    "# Calculate the middle index for each DataFrame\n",
    "womens_middle = womens_rows // 2\n",
    "mens_middle = mens_rows // 2\n",
    "\n",
    "# Combine the first half of womens_df and the second half of mens_df\n",
    "combined_df = pd.concat([womens_df.iloc[:womens_middle], mens_df.iloc[mens_middle:]], ignore_index=True)\n",
    "\n",
    "# Save the combined DataFrame to a single CSV file\n",
    "combined_df.to_csv('submission.csv', index=False)"
   ]
  }
 ],
 "metadata": {
  "kernelspec": {
   "display_name": "myenv",
   "language": "python",
   "name": "python3"
  },
  "language_info": {
   "codemirror_mode": {
    "name": "ipython",
    "version": 3
   },
   "file_extension": ".py",
   "mimetype": "text/x-python",
   "name": "python",
   "nbconvert_exporter": "python",
   "pygments_lexer": "ipython3",
   "version": "3.12.2"
  }
 },
 "nbformat": 4,
 "nbformat_minor": 2
}
